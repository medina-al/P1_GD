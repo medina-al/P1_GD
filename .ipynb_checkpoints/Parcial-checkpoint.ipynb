{
 "cells": [
  {
   "cell_type": "markdown",
   "id": "b67facf6-7d1b-4cc9-bdb9-1cd45793cee8",
   "metadata": {
    "tags": []
   },
   "source": [
    "# Configuración de librerías"
   ]
  },
  {
   "cell_type": "code",
   "execution_count": 88,
   "id": "3b05e6a2-89be-47dc-a694-60770106746f",
   "metadata": {},
   "outputs": [],
   "source": [
    "##Importar las librerías requeridas para el análisis\n",
    "import numpy as np\n",
    "import pandas as pd\n",
    "import statistics\n",
    "import matplotlib.pyplot as plt\n",
    "\n",
    "%matplotlib inline"
   ]
  },
  {
   "cell_type": "code",
   "execution_count": 49,
   "id": "4e374108-1d4c-4196-a3f7-9cb28a635db0",
   "metadata": {},
   "outputs": [],
   "source": [
    "##Definir tamaño máximo de filas a mostrar\n",
    "pd.set_option('display.max_rows', 100)"
   ]
  },
  {
   "cell_type": "markdown",
   "id": "f0958f03-1be6-4850-972f-9650f6995168",
   "metadata": {},
   "source": [
    "# Punto 1 - Exploración de datos"
   ]
  },
  {
   "cell_type": "markdown",
   "id": "fb167882-16a8-47b9-9dab-14937863fcee",
   "metadata": {},
   "source": [
    "## Importar y verificar la información del dataset"
   ]
  },
  {
   "cell_type": "code",
   "execution_count": 50,
   "id": "82186d4c-a126-4b2c-b26c-1a2a089c5116",
   "metadata": {},
   "outputs": [],
   "source": [
    "##Importar el dataset del CSV\n",
    "df = pd.read_csv('./data/Dataset_P1.csv')"
   ]
  },
  {
   "cell_type": "code",
   "execution_count": 51,
   "id": "48c9173b-15fd-4fa6-8e65-63831ebf5559",
   "metadata": {},
   "outputs": [
    {
     "data": {
      "text/html": [
       "<div>\n",
       "<style scoped>\n",
       "    .dataframe tbody tr th:only-of-type {\n",
       "        vertical-align: middle;\n",
       "    }\n",
       "\n",
       "    .dataframe tbody tr th {\n",
       "        vertical-align: top;\n",
       "    }\n",
       "\n",
       "    .dataframe thead th {\n",
       "        text-align: right;\n",
       "    }\n",
       "</style>\n",
       "<table border=\"1\" class=\"dataframe\">\n",
       "  <thead>\n",
       "    <tr style=\"text-align: right;\">\n",
       "      <th></th>\n",
       "      <th>gender</th>\n",
       "      <th>race/ethnicity</th>\n",
       "      <th>parental level of education</th>\n",
       "      <th>lunch</th>\n",
       "      <th>test preparation course</th>\n",
       "      <th>math score</th>\n",
       "      <th>reading score</th>\n",
       "      <th>writing score</th>\n",
       "    </tr>\n",
       "  </thead>\n",
       "  <tbody>\n",
       "    <tr>\n",
       "      <th>0</th>\n",
       "      <td>non-binary</td>\n",
       "      <td>group B</td>\n",
       "      <td>bachelor's degree</td>\n",
       "      <td>standard</td>\n",
       "      <td>none</td>\n",
       "      <td>72.0</td>\n",
       "      <td>72.0</td>\n",
       "      <td>NaN</td>\n",
       "    </tr>\n",
       "    <tr>\n",
       "      <th>1</th>\n",
       "      <td>female</td>\n",
       "      <td>group C</td>\n",
       "      <td>some college</td>\n",
       "      <td>standard</td>\n",
       "      <td>completed</td>\n",
       "      <td>69.0</td>\n",
       "      <td>90.0</td>\n",
       "      <td>88.0</td>\n",
       "    </tr>\n",
       "    <tr>\n",
       "      <th>2</th>\n",
       "      <td>female</td>\n",
       "      <td>group B</td>\n",
       "      <td>master's degree</td>\n",
       "      <td>standard</td>\n",
       "      <td>none</td>\n",
       "      <td>90.0</td>\n",
       "      <td>95.0</td>\n",
       "      <td>93.0</td>\n",
       "    </tr>\n",
       "    <tr>\n",
       "      <th>3</th>\n",
       "      <td>male</td>\n",
       "      <td>group A</td>\n",
       "      <td>associate's degree</td>\n",
       "      <td>free/reduced</td>\n",
       "      <td>none</td>\n",
       "      <td>NaN</td>\n",
       "      <td>57.0</td>\n",
       "      <td>44.0</td>\n",
       "    </tr>\n",
       "    <tr>\n",
       "      <th>4</th>\n",
       "      <td>male</td>\n",
       "      <td>group C</td>\n",
       "      <td>some college</td>\n",
       "      <td>standard</td>\n",
       "      <td>none</td>\n",
       "      <td>76.0</td>\n",
       "      <td>78.0</td>\n",
       "      <td>75.0</td>\n",
       "    </tr>\n",
       "  </tbody>\n",
       "</table>\n",
       "</div>"
      ],
      "text/plain": [
       "       gender race/ethnicity parental level of education         lunch  \\\n",
       "0  non-binary        group B           bachelor's degree      standard   \n",
       "1      female        group C                some college      standard   \n",
       "2      female        group B             master's degree      standard   \n",
       "3        male        group A          associate's degree  free/reduced   \n",
       "4        male        group C                some college      standard   \n",
       "\n",
       "  test preparation course  math score  reading score  writing score  \n",
       "0                    none        72.0           72.0            NaN  \n",
       "1               completed        69.0           90.0           88.0  \n",
       "2                    none        90.0           95.0           93.0  \n",
       "3                    none         NaN           57.0           44.0  \n",
       "4                    none        76.0           78.0           75.0  "
      ]
     },
     "execution_count": 51,
     "metadata": {},
     "output_type": "execute_result"
    }
   ],
   "source": [
    "##Visualizar los primeros datos\n",
    "df.head()"
   ]
  },
  {
   "cell_type": "code",
   "execution_count": 52,
   "id": "d5625a97-1750-4739-b3c5-327b07f90d6c",
   "metadata": {},
   "outputs": [],
   "source": [
    "#Actualizar el nombre de los campos\n",
    "df=df.rename(columns={'gender':'GÉNERO','race/ethnicity':'RAZA_ETNIA','parental level of education':'NIVEL_EDUCACIÓN_PADRES',\n",
    "                   'lunch':'ALMUERZO','test preparation course':'PREPARACION_CURSO',\n",
    "                  'math score':'MATEMATICAS','reading score':'LECTURA','writing score':'ESCRITURA'})"
   ]
  },
  {
   "cell_type": "code",
   "execution_count": 53,
   "id": "b2988b45-b48c-4c08-99fd-55726f0795a9",
   "metadata": {},
   "outputs": [
    {
     "data": {
      "text/plain": [
       "(1000, 8)"
      ]
     },
     "execution_count": 53,
     "metadata": {},
     "output_type": "execute_result"
    }
   ],
   "source": [
    "## Ver el tamaño del dataset\n",
    "df.shape"
   ]
  },
  {
   "cell_type": "code",
   "execution_count": 54,
   "id": "5a42241a-cf14-4a1b-804d-c34728ee60c8",
   "metadata": {},
   "outputs": [
    {
     "data": {
      "text/plain": [
       "GÉNERO                     object\n",
       "RAZA_ETNIA                 object\n",
       "NIVEL_EDUCACIÓN_PADRES     object\n",
       "ALMUERZO                   object\n",
       "PREPARACION_CURSO          object\n",
       "MATEMATICAS               float64\n",
       "LECTURA                   float64\n",
       "ESCRITURA                 float64\n",
       "dtype: object"
      ]
     },
     "execution_count": 54,
     "metadata": {},
     "output_type": "execute_result"
    }
   ],
   "source": [
    "## Ver los tipos de datos de las columnas\n",
    "df.dtypes"
   ]
  },
  {
   "cell_type": "code",
   "execution_count": 55,
   "id": "45895f67-c2c5-4a7e-b63e-e16cf0c3458d",
   "metadata": {},
   "outputs": [
    {
     "data": {
      "text/plain": [
       "GÉNERO                    47\n",
       "RAZA_ETNIA                45\n",
       "NIVEL_EDUCACIÓN_PADRES    60\n",
       "ALMUERZO                  54\n",
       "PREPARACION_CURSO         41\n",
       "MATEMATICAS               51\n",
       "LECTURA                   48\n",
       "ESCRITURA                 49\n",
       "dtype: int64"
      ]
     },
     "execution_count": 55,
     "metadata": {},
     "output_type": "execute_result"
    }
   ],
   "source": [
    "# Buscar valores nulos por cada campo\n",
    "df.isnull().sum()"
   ]
  },
  {
   "cell_type": "markdown",
   "id": "3b68a474-770e-4eef-8d16-2de40a9a217a",
   "metadata": {
    "tags": []
   },
   "source": [
    "## Revisión por campo"
   ]
  },
  {
   "cell_type": "markdown",
   "id": "378c29b0-efa7-4fb8-a978-662b7da2f064",
   "metadata": {},
   "source": [
    "### Género"
   ]
  },
  {
   "cell_type": "code",
   "execution_count": 56,
   "id": "35f26d7b-213f-48a2-a07a-c17411963fb1",
   "metadata": {},
   "outputs": [
    {
     "data": {
      "text/plain": [
       "array(['non-binary', 'female', 'male', nan], dtype=object)"
      ]
     },
     "execution_count": 56,
     "metadata": {},
     "output_type": "execute_result"
    }
   ],
   "source": [
    "# Validar los datos del campo\n",
    "df['GÉNERO'].unique()"
   ]
  },
  {
   "cell_type": "markdown",
   "id": "08f4a9d5-46bb-463d-9852-992e844503b1",
   "metadata": {},
   "source": [
    "### Raza / Etnia"
   ]
  },
  {
   "cell_type": "code",
   "execution_count": 57,
   "id": "3a25fd91-3ff4-4187-8ca6-bf6b1460bfa9",
   "metadata": {},
   "outputs": [
    {
     "data": {
      "text/plain": [
       "array(['group B', 'group C', 'group A', 'group D', 'group E', nan],\n",
       "      dtype=object)"
      ]
     },
     "execution_count": 57,
     "metadata": {},
     "output_type": "execute_result"
    }
   ],
   "source": [
    "# Validar los datos del campo\n",
    "df['RAZA_ETNIA'].unique()"
   ]
  },
  {
   "cell_type": "markdown",
   "id": "c15c02a9-4db6-416f-911e-b5897202e9ab",
   "metadata": {},
   "source": [
    "### Nivel de educación padres"
   ]
  },
  {
   "cell_type": "code",
   "execution_count": 58,
   "id": "c861e7ca-7af5-43fa-bd6b-2e9d57e5a57d",
   "metadata": {},
   "outputs": [
    {
     "data": {
      "text/plain": [
       "array([\"bachelor's degree\", 'some college', \"master's degree\",\n",
       "       \"associate's degree\", 'high school', 'some high school', nan],\n",
       "      dtype=object)"
      ]
     },
     "execution_count": 58,
     "metadata": {},
     "output_type": "execute_result"
    }
   ],
   "source": [
    "# Validar los datos del campo\n",
    "df['NIVEL_EDUCACIÓN_PADRES'].unique()"
   ]
  },
  {
   "cell_type": "markdown",
   "id": "667a2db8-980a-4624-b2d5-d8fbe45127f3",
   "metadata": {},
   "source": [
    "### Preparación curso"
   ]
  },
  {
   "cell_type": "code",
   "execution_count": 59,
   "id": "cb430133-e0c7-47be-8206-62e6bcef0886",
   "metadata": {},
   "outputs": [
    {
     "data": {
      "text/plain": [
       "array(['none', 'completed', nan], dtype=object)"
      ]
     },
     "execution_count": 59,
     "metadata": {},
     "output_type": "execute_result"
    }
   ],
   "source": [
    "# Validar los datos del campo\n",
    "df['PREPARACION_CURSO'].unique()"
   ]
  },
  {
   "cell_type": "markdown",
   "id": "7558be01-f7b3-4bbe-9220-1bd97faa832d",
   "metadata": {},
   "source": [
    "### Calificación matemáticas"
   ]
  },
  {
   "cell_type": "code",
   "execution_count": 60,
   "id": "24580256-f9df-45b2-aa1d-87b1221e0640",
   "metadata": {},
   "outputs": [
    {
     "data": {
      "text/plain": [
       "array([ 72.,  69.,  90.,  nan,  76.,  71.,  88.,  40.,  64.,  38.,  58.,\n",
       "        65.,  78.,  50.,  18.,  46.,  54.,  66.,  44.,  74.,  73.,  67.,\n",
       "        63.,  56.,  97.,  81.,  75.,  55.,  53.,  59.,  57.,  82.,  77.,\n",
       "        33.,   0.,  79.,  39.,  62.,  45.,  60.,  41.,  61.,  49.,  30.,\n",
       "        47.,  42.,  27.,  43.,  68.,  85.,  98.,  87.,  52.,  70.,  51.,\n",
       "        99.,  84.,  91.,  83.,  89.,  22., 100.,  96.,  94.,  80.,  48.,\n",
       "        35.,  34.,  86.,  92.,  37.,  28.,  24.,  26.,  95.,  36.,  29.,\n",
       "        32.,  93.,  19.,  23.,   8.])"
      ]
     },
     "execution_count": 60,
     "metadata": {},
     "output_type": "execute_result"
    }
   ],
   "source": [
    "# Validar los datos del campo\n",
    "df['MATEMATICAS'].unique()"
   ]
  },
  {
   "cell_type": "markdown",
   "id": "2500e722-eeab-4b98-a47d-cde5107a3892",
   "metadata": {},
   "source": [
    "### Calificación lectura"
   ]
  },
  {
   "cell_type": "code",
   "execution_count": 61,
   "id": "113ae587-cbff-4d5c-83b1-2197de6dc5a0",
   "metadata": {},
   "outputs": [
    {
     "data": {
      "text/plain": [
       "array([ 72.,  90.,  95.,  57.,  78.,  83.,  43.,  64.,  60.,  54.,  52.,\n",
       "        81.,  53.,  75.,  89.,  32.,  42.,  58.,  69.,  73.,  71.,  74.,\n",
       "        70.,  65.,  87.,  56.,  61.,  84.,  55.,  44.,  nan,  41.,  85.,\n",
       "        59.,  17.,  80.,  37.,  51.,  49.,  26.,  68.,  45.,  39.,  86.,\n",
       "        34.,  79.,  66.,  67.,  91., 100.,  63.,  76.,  77.,  82.,  92.,\n",
       "        93.,  62.,  88.,  50.,  28.,  48.,  46.,  23.,  38.,  94.,  97.,\n",
       "        99.,  31.,  47.,  96.,  24.,  29.,  40.])"
      ]
     },
     "execution_count": 61,
     "metadata": {},
     "output_type": "execute_result"
    }
   ],
   "source": [
    "# Validar los datos del campo\n",
    "df['LECTURA'].unique()"
   ]
  },
  {
   "cell_type": "markdown",
   "id": "cdd22fb1-892c-4c90-8bc9-af12839be80f",
   "metadata": {},
   "source": [
    "### Calificación escritura"
   ]
  },
  {
   "cell_type": "code",
   "execution_count": 62,
   "id": "70bda02b-ec9a-40c1-9d10-d8c1f49cb081",
   "metadata": {},
   "outputs": [
    {
     "data": {
      "text/plain": [
       "array([ nan,  88.,  93.,  44.,  75.,  78.,  92.,  39.,  67.,  50.,  52.,\n",
       "        43.,  73.,  70.,  58.,  86.,  28.,  46.,  61.,  63.,  53.,  80.,\n",
       "        72.,  55.,  65.,  74.,  38.,  82.,  79.,  83.,  59.,  57.,  54.,\n",
       "        68.,  66.,  62.,  76.,  48.,  42.,  87.,  49.,  10.,  34.,  71.,\n",
       "        37.,  56.,  41.,  22.,  81.,  45.,  36.,  89.,  47.,  90., 100.,\n",
       "        64.,  98.,  51.,  40.,  84.,  69.,  33.,  60.,  85.,  91.,  77.,\n",
       "        27.,  94.,  95.,  19.,  35.,  32.,  96.,  97.,  99.,  15.,  30.,\n",
       "        23.])"
      ]
     },
     "execution_count": 62,
     "metadata": {},
     "output_type": "execute_result"
    }
   ],
   "source": [
    "# Validar los datos del campo\n",
    "df['ESCRITURA'].unique()"
   ]
  },
  {
   "cell_type": "markdown",
   "id": "00733df0-0510-4161-804e-e1ca26dcc4dc",
   "metadata": {
    "tags": []
   },
   "source": [
    "# Punto 2 - Limpieza de datos"
   ]
  },
  {
   "cell_type": "markdown",
   "id": "5da7169e-320d-43d3-83e8-2de44fd5b421",
   "metadata": {},
   "source": [
    "Se detecta que existen valores vacíos en todas las columnas, las siguientes son las acciones para cada campo:\n",
    "- Género: Reclasificar a \"Otro\"\n",
    "- Raza: Omitir\n",
    "- Nivel de educación padres: Eliminar filas vacías\n",
    "- Almuerzo: Omitir\n",
    "- Preparación curso: Eliminar filas vacías\n",
    "- Calificación matemáticas: Eliminar filas vacías\n",
    "- Calificación lectura: Eliminar filas vacías\n",
    "- Calificación escritura: Eliminar filas vacías"
   ]
  },
  {
   "cell_type": "code",
   "execution_count": 63,
   "id": "2def46c9-2810-48a0-ac4f-0fb42d3b74b4",
   "metadata": {},
   "outputs": [
    {
     "data": {
      "text/plain": [
       "array(['non-binary', 'female', 'male', 'Other'], dtype=object)"
      ]
     },
     "execution_count": 63,
     "metadata": {},
     "output_type": "execute_result"
    }
   ],
   "source": [
    "#Cambiar valores vacíos a \"Otro\" en género\n",
    "df[\"GÉNERO\"].fillna(\"Other\", inplace = True)\n",
    "df['GÉNERO'].unique()"
   ]
  },
  {
   "cell_type": "code",
   "execution_count": 65,
   "id": "7b8d5911-0e0a-402a-a8a2-281f4ec3adc4",
   "metadata": {},
   "outputs": [
    {
     "data": {
      "text/plain": [
       "array(['some college', \"master's degree\", \"associate's degree\",\n",
       "       'high school', 'some high school', \"bachelor's degree\"],\n",
       "      dtype=object)"
      ]
     },
     "execution_count": 65,
     "metadata": {},
     "output_type": "execute_result"
    }
   ],
   "source": [
    "#Eliminar filas con valores nulos de las demás columnas que aplican\n",
    "df=df.dropna(subset=['NIVEL_EDUCACIÓN_PADRES','PREPARACION_CURSO','MATEMATICAS','LECTURA','ESCRITURA'])"
   ]
  },
  {
   "cell_type": "code",
   "execution_count": 66,
   "id": "f6162cd9-93c8-44db-899d-42d008be53f0",
   "metadata": {},
   "outputs": [
    {
     "data": {
      "text/plain": [
       "array(['some college', \"master's degree\", \"associate's degree\",\n",
       "       'high school', 'some high school', \"bachelor's degree\"],\n",
       "      dtype=object)"
      ]
     },
     "execution_count": 66,
     "metadata": {},
     "output_type": "execute_result"
    }
   ],
   "source": [
    "#Validar campos sin valores vacíos\n",
    "df['NIVEL_EDUCACIÓN_PADRES'].unique()"
   ]
  },
  {
   "cell_type": "code",
   "execution_count": 67,
   "id": "11a94cde-7992-437e-9a71-3b25b1a26b9a",
   "metadata": {},
   "outputs": [
    {
     "data": {
      "text/plain": [
       "array(['completed', 'none'], dtype=object)"
      ]
     },
     "execution_count": 67,
     "metadata": {},
     "output_type": "execute_result"
    }
   ],
   "source": [
    "#Validar campos sin valores vacíos\n",
    "df['PREPARACION_CURSO'].unique()"
   ]
  },
  {
   "cell_type": "code",
   "execution_count": 68,
   "id": "e71babd3-0345-45bb-90a8-b948c8f8c7ed",
   "metadata": {},
   "outputs": [
    {
     "data": {
      "text/plain": [
       "array([ 69.,  90.,  76.,  71.,  88.,  40.,  64.,  38.,  58.,  65.,  78.,\n",
       "        50.,  18.,  46.,  54.,  66.,  44.,  74.,  73.,  67.,  63.,  56.,\n",
       "        97.,  81.,  55.,  53.,  59.,  57.,  82.,  77.,  33.,   0.,  62.,\n",
       "        45.,  60.,  39.,  41.,  61.,  49.,  47.,  42.,  27.,  43.,  79.,\n",
       "        68.,  98.,  87.,  70.,  51.,  99.,  84.,  75.,  91.,  83.,  72.,\n",
       "        89.,  52.,  96.,  94.,  80.,  48.,  35.,  34.,  85.,  37.,  28.,\n",
       "        86., 100.,  26.,  95.,  36.,  29.,  92.,  30.,  32.,  19.,  93.,\n",
       "         8.])"
      ]
     },
     "execution_count": 68,
     "metadata": {},
     "output_type": "execute_result"
    }
   ],
   "source": [
    "#Validar campos sin valores vacíos\n",
    "df['MATEMATICAS'].unique()"
   ]
  },
  {
   "cell_type": "code",
   "execution_count": 69,
   "id": "4ab3be69-273d-4054-a511-2fcc93754e94",
   "metadata": {},
   "outputs": [
    {
     "data": {
      "text/plain": [
       "array([ 90.,  95.,  78.,  83.,  43.,  64.,  60.,  54.,  52.,  81.,  72.,\n",
       "        53.,  75.,  89.,  32.,  42.,  58.,  69.,  71.,  74.,  65.,  87.,\n",
       "        61.,  56.,  84.,  55.,  44.,  41.,  85.,  59.,  17.,  80.,  37.,\n",
       "        51.,  57.,  49.,  68.,  45.,  39.,  70.,  86.,  34.,  79.,  67.,\n",
       "       100.,  77.,  63.,  92.,  82.,  62.,  73.,  88.,  76.,  91.,  50.,\n",
       "        66.,  28.,  93.,  48.,  46.,  23.,  97.,  99.,  31.,  47.,  96.,\n",
       "        24.,  29.,  94.,  38.])"
      ]
     },
     "execution_count": 69,
     "metadata": {},
     "output_type": "execute_result"
    }
   ],
   "source": [
    "#Validar campos sin valores vacíos\n",
    "df['LECTURA'].unique()"
   ]
  },
  {
   "cell_type": "code",
   "execution_count": 70,
   "id": "82a3c511-a666-4525-bf4a-3447290c9145",
   "metadata": {},
   "outputs": [
    {
     "data": {
      "text/plain": [
       "array([ 88.,  93.,  75.,  78.,  92.,  39.,  67.,  50.,  52.,  43.,  73.,\n",
       "        70.,  58.,  86.,  28.,  46.,  61.,  63.,  53.,  80.,  72.,  55.,\n",
       "        74.,  65.,  38.,  82.,  79.,  83.,  59.,  54.,  66.,  57.,  62.,\n",
       "        76.,  48.,  68.,  42.,  87.,  10.,  71.,  37.,  56.,  41.,  45.,\n",
       "        34.,  36.,  47.,  90., 100.,  98.,  49.,  89.,  51.,  84.,  64.,\n",
       "        81.,  60.,  85.,  91.,  77.,  69.,  27.,  94.,  95.,  19.,  35.,\n",
       "        32.,  96.,  97.,  99.,  15.,  30.,  44.,  40.,  23.])"
      ]
     },
     "execution_count": 70,
     "metadata": {},
     "output_type": "execute_result"
    }
   ],
   "source": [
    "#Validar campos sin valores vacíos\n",
    "df['ESCRITURA'].unique()"
   ]
  },
  {
   "cell_type": "code",
   "execution_count": 71,
   "id": "ad0b1ac4-651a-4d00-b97c-a01b8b9cffc2",
   "metadata": {},
   "outputs": [
    {
     "data": {
      "text/plain": [
       "(772, 8)"
      ]
     },
     "execution_count": 71,
     "metadata": {},
     "output_type": "execute_result"
    }
   ],
   "source": [
    "## Ver el tamaño del dataset actualizado\n",
    "df.shape"
   ]
  },
  {
   "cell_type": "markdown",
   "id": "1fc17377-75bb-4844-9a06-a446b397b3c2",
   "metadata": {},
   "source": [
    "# Punto 3 - Promedio por asignatura"
   ]
  },
  {
   "cell_type": "markdown",
   "id": "9dd06fb8-89ff-4c56-b8c7-1afe84f288e8",
   "metadata": {},
   "source": [
    "## Matemáticas"
   ]
  },
  {
   "cell_type": "code",
   "execution_count": 81,
   "id": "443b44b2-4dca-4e6e-981a-1c110fd710a7",
   "metadata": {},
   "outputs": [
    {
     "data": {
      "text/plain": [
       "66.26165803108809"
      ]
     },
     "execution_count": 81,
     "metadata": {},
     "output_type": "execute_result"
    }
   ],
   "source": [
    "avg_math = df['MATEMATICAS'].mean()\n",
    "avg_math"
   ]
  },
  {
   "cell_type": "markdown",
   "id": "9dd1128d-114c-4618-acef-4188a7003d8c",
   "metadata": {},
   "source": [
    "## Lectura"
   ]
  },
  {
   "cell_type": "code",
   "execution_count": 82,
   "id": "f7a9276c-6077-48d0-80cb-26270bb51dd1",
   "metadata": {},
   "outputs": [
    {
     "data": {
      "text/plain": [
       "69.54663212435233"
      ]
     },
     "execution_count": 82,
     "metadata": {},
     "output_type": "execute_result"
    }
   ],
   "source": [
    "avg_reading = df['LECTURA'].mean()\n",
    "avg_reading"
   ]
  },
  {
   "cell_type": "markdown",
   "id": "12e7b479-28fe-4c34-b70c-ee8095720b08",
   "metadata": {},
   "source": [
    "## Escritura"
   ]
  },
  {
   "cell_type": "code",
   "execution_count": 83,
   "id": "b6e491ba-5d71-498a-bda9-545822c1ce34",
   "metadata": {},
   "outputs": [
    {
     "data": {
      "text/plain": [
       "68.52072538860104"
      ]
     },
     "execution_count": 83,
     "metadata": {},
     "output_type": "execute_result"
    }
   ],
   "source": [
    "avg_writing = df['ESCRITURA'].mean()\n",
    "avg_writing"
   ]
  },
  {
   "cell_type": "code",
   "execution_count": 85,
   "id": "d661cb69-78bb-48f0-b409-63f87f275175",
   "metadata": {},
   "outputs": [
    {
     "data": {
      "text/plain": [
       "[66.26165803108809, 69.54663212435233, 68.52072538860104]"
      ]
     },
     "execution_count": 85,
     "metadata": {},
     "output_type": "execute_result"
    }
   ],
   "source": [
    "# Guardar en una lista los promedios de cada asignatura\n",
    "df_avg=[avg_math,avg_reading,avg_writing]\n",
    "df_avg"
   ]
  },
  {
   "cell_type": "code",
   "execution_count": 89,
   "id": "43ba8514-4551-40fe-a929-82ef658a1a50",
   "metadata": {},
   "outputs": [
    {
     "data": {
      "text/plain": [
       "1.3722214248621998"
      ]
     },
     "execution_count": 89,
     "metadata": {},
     "output_type": "execute_result"
    }
   ],
   "source": [
    "# Calcular la desviación estándar\n",
    "statistics.pstdev(df_avg)"
   ]
  },
  {
   "cell_type": "markdown",
   "id": "35f63f7f-bde0-493f-9f06-cf722199cd1e",
   "metadata": {},
   "source": [
    "# Punto 4 - Correlación entre calificaciones"
   ]
  },
  {
   "cell_type": "markdown",
   "id": "60d8bb45-a9ff-425e-973e-6f2b1a752da9",
   "metadata": {},
   "source": [
    "### Todas las asignaturas"
   ]
  },
  {
   "cell_type": "code",
   "execution_count": 105,
   "id": "1e69e8ab-48d6-4d3d-83f6-ce33610893f8",
   "metadata": {},
   "outputs": [
    {
     "data": {
      "text/html": [
       "<div>\n",
       "<style scoped>\n",
       "    .dataframe tbody tr th:only-of-type {\n",
       "        vertical-align: middle;\n",
       "    }\n",
       "\n",
       "    .dataframe tbody tr th {\n",
       "        vertical-align: top;\n",
       "    }\n",
       "\n",
       "    .dataframe thead th {\n",
       "        text-align: right;\n",
       "    }\n",
       "</style>\n",
       "<table border=\"1\" class=\"dataframe\">\n",
       "  <thead>\n",
       "    <tr style=\"text-align: right;\">\n",
       "      <th></th>\n",
       "      <th>MATEMATICAS</th>\n",
       "      <th>LECTURA</th>\n",
       "      <th>ESCRITURA</th>\n",
       "    </tr>\n",
       "  </thead>\n",
       "  <tbody>\n",
       "    <tr>\n",
       "      <th>MATEMATICAS</th>\n",
       "      <td>1.000000</td>\n",
       "      <td>0.808339</td>\n",
       "      <td>0.779324</td>\n",
       "    </tr>\n",
       "    <tr>\n",
       "      <th>LECTURA</th>\n",
       "      <td>0.808339</td>\n",
       "      <td>1.000000</td>\n",
       "      <td>0.948139</td>\n",
       "    </tr>\n",
       "    <tr>\n",
       "      <th>ESCRITURA</th>\n",
       "      <td>0.779324</td>\n",
       "      <td>0.948139</td>\n",
       "      <td>1.000000</td>\n",
       "    </tr>\n",
       "  </tbody>\n",
       "</table>\n",
       "</div>"
      ],
      "text/plain": [
       "             MATEMATICAS   LECTURA  ESCRITURA\n",
       "MATEMATICAS     1.000000  0.808339   0.779324\n",
       "LECTURA         0.808339  1.000000   0.948139\n",
       "ESCRITURA       0.779324  0.948139   1.000000"
      ]
     },
     "execution_count": 105,
     "metadata": {},
     "output_type": "execute_result"
    }
   ],
   "source": [
    "df[['MATEMATICAS','LECTURA','ESCRITURA']].corr('spearman')"
   ]
  },
  {
   "cell_type": "code",
   "execution_count": 106,
   "id": "81bd2e50-37bd-409a-965f-73c45f85260e",
   "metadata": {},
   "outputs": [
    {
     "data": {
      "text/html": [
       "<div>\n",
       "<style scoped>\n",
       "    .dataframe tbody tr th:only-of-type {\n",
       "        vertical-align: middle;\n",
       "    }\n",
       "\n",
       "    .dataframe tbody tr th {\n",
       "        vertical-align: top;\n",
       "    }\n",
       "\n",
       "    .dataframe thead th {\n",
       "        text-align: right;\n",
       "    }\n",
       "</style>\n",
       "<table border=\"1\" class=\"dataframe\">\n",
       "  <thead>\n",
       "    <tr style=\"text-align: right;\">\n",
       "      <th></th>\n",
       "      <th>MATEMATICAS</th>\n",
       "      <th>LECTURA</th>\n",
       "      <th>ESCRITURA</th>\n",
       "    </tr>\n",
       "  </thead>\n",
       "  <tbody>\n",
       "    <tr>\n",
       "      <th>MATEMATICAS</th>\n",
       "      <td>1.000000</td>\n",
       "      <td>0.820353</td>\n",
       "      <td>0.801268</td>\n",
       "    </tr>\n",
       "    <tr>\n",
       "      <th>LECTURA</th>\n",
       "      <td>0.820353</td>\n",
       "      <td>1.000000</td>\n",
       "      <td>0.953780</td>\n",
       "    </tr>\n",
       "    <tr>\n",
       "      <th>ESCRITURA</th>\n",
       "      <td>0.801268</td>\n",
       "      <td>0.953780</td>\n",
       "      <td>1.000000</td>\n",
       "    </tr>\n",
       "  </tbody>\n",
       "</table>\n",
       "</div>"
      ],
      "text/plain": [
       "             MATEMATICAS   LECTURA  ESCRITURA\n",
       "MATEMATICAS     1.000000  0.820353   0.801268\n",
       "LECTURA         0.820353  1.000000   0.953780\n",
       "ESCRITURA       0.801268  0.953780   1.000000"
      ]
     },
     "execution_count": 106,
     "metadata": {},
     "output_type": "execute_result"
    }
   ],
   "source": [
    "df[['MATEMATICAS','LECTURA','ESCRITURA']].corr('pearson')"
   ]
  },
  {
   "cell_type": "markdown",
   "id": "a7359203-24d1-48b4-b3e5-412a8eedcf84",
   "metadata": {},
   "source": [
    "## Matemáticas vs Lectura"
   ]
  },
  {
   "cell_type": "code",
   "execution_count": 107,
   "id": "8fc6efee-055d-40b5-ac21-bbd28420f409",
   "metadata": {},
   "outputs": [
    {
     "data": {
      "text/html": [
       "<div>\n",
       "<style scoped>\n",
       "    .dataframe tbody tr th:only-of-type {\n",
       "        vertical-align: middle;\n",
       "    }\n",
       "\n",
       "    .dataframe tbody tr th {\n",
       "        vertical-align: top;\n",
       "    }\n",
       "\n",
       "    .dataframe thead th {\n",
       "        text-align: right;\n",
       "    }\n",
       "</style>\n",
       "<table border=\"1\" class=\"dataframe\">\n",
       "  <thead>\n",
       "    <tr style=\"text-align: right;\">\n",
       "      <th></th>\n",
       "      <th>MATEMATICAS</th>\n",
       "      <th>LECTURA</th>\n",
       "    </tr>\n",
       "  </thead>\n",
       "  <tbody>\n",
       "    <tr>\n",
       "      <th>MATEMATICAS</th>\n",
       "      <td>1.000000</td>\n",
       "      <td>0.808339</td>\n",
       "    </tr>\n",
       "    <tr>\n",
       "      <th>LECTURA</th>\n",
       "      <td>0.808339</td>\n",
       "      <td>1.000000</td>\n",
       "    </tr>\n",
       "  </tbody>\n",
       "</table>\n",
       "</div>"
      ],
      "text/plain": [
       "             MATEMATICAS   LECTURA\n",
       "MATEMATICAS     1.000000  0.808339\n",
       "LECTURA         0.808339  1.000000"
      ]
     },
     "execution_count": 107,
     "metadata": {},
     "output_type": "execute_result"
    }
   ],
   "source": [
    "df[['MATEMATICAS','LECTURA']].corr('spearman')"
   ]
  },
  {
   "cell_type": "code",
   "execution_count": 108,
   "id": "443ab726-9cc8-4836-8ee8-a2414f17f4fc",
   "metadata": {},
   "outputs": [
    {
     "data": {
      "text/html": [
       "<div>\n",
       "<style scoped>\n",
       "    .dataframe tbody tr th:only-of-type {\n",
       "        vertical-align: middle;\n",
       "    }\n",
       "\n",
       "    .dataframe tbody tr th {\n",
       "        vertical-align: top;\n",
       "    }\n",
       "\n",
       "    .dataframe thead th {\n",
       "        text-align: right;\n",
       "    }\n",
       "</style>\n",
       "<table border=\"1\" class=\"dataframe\">\n",
       "  <thead>\n",
       "    <tr style=\"text-align: right;\">\n",
       "      <th></th>\n",
       "      <th>MATEMATICAS</th>\n",
       "      <th>LECTURA</th>\n",
       "    </tr>\n",
       "  </thead>\n",
       "  <tbody>\n",
       "    <tr>\n",
       "      <th>MATEMATICAS</th>\n",
       "      <td>1.000000</td>\n",
       "      <td>0.820353</td>\n",
       "    </tr>\n",
       "    <tr>\n",
       "      <th>LECTURA</th>\n",
       "      <td>0.820353</td>\n",
       "      <td>1.000000</td>\n",
       "    </tr>\n",
       "  </tbody>\n",
       "</table>\n",
       "</div>"
      ],
      "text/plain": [
       "             MATEMATICAS   LECTURA\n",
       "MATEMATICAS     1.000000  0.820353\n",
       "LECTURA         0.820353  1.000000"
      ]
     },
     "execution_count": 108,
     "metadata": {},
     "output_type": "execute_result"
    }
   ],
   "source": [
    "df[['MATEMATICAS','LECTURA']].corr('pearson')"
   ]
  },
  {
   "cell_type": "markdown",
   "id": "18def75a-0ec6-4896-a15f-2514036dd5be",
   "metadata": {},
   "source": [
    "## Matemáticas vs Escritura"
   ]
  },
  {
   "cell_type": "code",
   "execution_count": 109,
   "id": "ecae33eb-5683-448a-9755-d3ac3daa5c48",
   "metadata": {},
   "outputs": [
    {
     "data": {
      "text/html": [
       "<div>\n",
       "<style scoped>\n",
       "    .dataframe tbody tr th:only-of-type {\n",
       "        vertical-align: middle;\n",
       "    }\n",
       "\n",
       "    .dataframe tbody tr th {\n",
       "        vertical-align: top;\n",
       "    }\n",
       "\n",
       "    .dataframe thead th {\n",
       "        text-align: right;\n",
       "    }\n",
       "</style>\n",
       "<table border=\"1\" class=\"dataframe\">\n",
       "  <thead>\n",
       "    <tr style=\"text-align: right;\">\n",
       "      <th></th>\n",
       "      <th>MATEMATICAS</th>\n",
       "      <th>ESCRITURA</th>\n",
       "    </tr>\n",
       "  </thead>\n",
       "  <tbody>\n",
       "    <tr>\n",
       "      <th>MATEMATICAS</th>\n",
       "      <td>1.000000</td>\n",
       "      <td>0.779324</td>\n",
       "    </tr>\n",
       "    <tr>\n",
       "      <th>ESCRITURA</th>\n",
       "      <td>0.779324</td>\n",
       "      <td>1.000000</td>\n",
       "    </tr>\n",
       "  </tbody>\n",
       "</table>\n",
       "</div>"
      ],
      "text/plain": [
       "             MATEMATICAS  ESCRITURA\n",
       "MATEMATICAS     1.000000   0.779324\n",
       "ESCRITURA       0.779324   1.000000"
      ]
     },
     "execution_count": 109,
     "metadata": {},
     "output_type": "execute_result"
    }
   ],
   "source": [
    "df[['MATEMATICAS','ESCRITURA']].corr('spearman')"
   ]
  },
  {
   "cell_type": "code",
   "execution_count": 110,
   "id": "399424bf-c7e4-4467-a7a0-db7769375c84",
   "metadata": {},
   "outputs": [
    {
     "data": {
      "text/html": [
       "<div>\n",
       "<style scoped>\n",
       "    .dataframe tbody tr th:only-of-type {\n",
       "        vertical-align: middle;\n",
       "    }\n",
       "\n",
       "    .dataframe tbody tr th {\n",
       "        vertical-align: top;\n",
       "    }\n",
       "\n",
       "    .dataframe thead th {\n",
       "        text-align: right;\n",
       "    }\n",
       "</style>\n",
       "<table border=\"1\" class=\"dataframe\">\n",
       "  <thead>\n",
       "    <tr style=\"text-align: right;\">\n",
       "      <th></th>\n",
       "      <th>MATEMATICAS</th>\n",
       "      <th>ESCRITURA</th>\n",
       "    </tr>\n",
       "  </thead>\n",
       "  <tbody>\n",
       "    <tr>\n",
       "      <th>MATEMATICAS</th>\n",
       "      <td>1.000000</td>\n",
       "      <td>0.801268</td>\n",
       "    </tr>\n",
       "    <tr>\n",
       "      <th>ESCRITURA</th>\n",
       "      <td>0.801268</td>\n",
       "      <td>1.000000</td>\n",
       "    </tr>\n",
       "  </tbody>\n",
       "</table>\n",
       "</div>"
      ],
      "text/plain": [
       "             MATEMATICAS  ESCRITURA\n",
       "MATEMATICAS     1.000000   0.801268\n",
       "ESCRITURA       0.801268   1.000000"
      ]
     },
     "execution_count": 110,
     "metadata": {},
     "output_type": "execute_result"
    }
   ],
   "source": [
    "df[['MATEMATICAS','ESCRITURA']].corr('pearson')"
   ]
  },
  {
   "cell_type": "markdown",
   "id": "0bfccd5f-ee2d-48b6-9d87-c91ef41f5d5c",
   "metadata": {},
   "source": [
    "## Escritura vs Lectura"
   ]
  },
  {
   "cell_type": "code",
   "execution_count": 111,
   "id": "b86769e6-ac42-4d97-b979-509421ae4f11",
   "metadata": {},
   "outputs": [
    {
     "data": {
      "text/html": [
       "<div>\n",
       "<style scoped>\n",
       "    .dataframe tbody tr th:only-of-type {\n",
       "        vertical-align: middle;\n",
       "    }\n",
       "\n",
       "    .dataframe tbody tr th {\n",
       "        vertical-align: top;\n",
       "    }\n",
       "\n",
       "    .dataframe thead th {\n",
       "        text-align: right;\n",
       "    }\n",
       "</style>\n",
       "<table border=\"1\" class=\"dataframe\">\n",
       "  <thead>\n",
       "    <tr style=\"text-align: right;\">\n",
       "      <th></th>\n",
       "      <th>LECTURA</th>\n",
       "      <th>ESCRITURA</th>\n",
       "    </tr>\n",
       "  </thead>\n",
       "  <tbody>\n",
       "    <tr>\n",
       "      <th>LECTURA</th>\n",
       "      <td>1.000000</td>\n",
       "      <td>0.948139</td>\n",
       "    </tr>\n",
       "    <tr>\n",
       "      <th>ESCRITURA</th>\n",
       "      <td>0.948139</td>\n",
       "      <td>1.000000</td>\n",
       "    </tr>\n",
       "  </tbody>\n",
       "</table>\n",
       "</div>"
      ],
      "text/plain": [
       "            LECTURA  ESCRITURA\n",
       "LECTURA    1.000000   0.948139\n",
       "ESCRITURA  0.948139   1.000000"
      ]
     },
     "execution_count": 111,
     "metadata": {},
     "output_type": "execute_result"
    }
   ],
   "source": [
    "df[['LECTURA','ESCRITURA']].corr('spearman')"
   ]
  },
  {
   "cell_type": "code",
   "execution_count": 112,
   "id": "06e7d0f9-5ef1-4c4c-bcff-07b30bb7c59d",
   "metadata": {},
   "outputs": [
    {
     "data": {
      "text/html": [
       "<div>\n",
       "<style scoped>\n",
       "    .dataframe tbody tr th:only-of-type {\n",
       "        vertical-align: middle;\n",
       "    }\n",
       "\n",
       "    .dataframe tbody tr th {\n",
       "        vertical-align: top;\n",
       "    }\n",
       "\n",
       "    .dataframe thead th {\n",
       "        text-align: right;\n",
       "    }\n",
       "</style>\n",
       "<table border=\"1\" class=\"dataframe\">\n",
       "  <thead>\n",
       "    <tr style=\"text-align: right;\">\n",
       "      <th></th>\n",
       "      <th>LECTURA</th>\n",
       "      <th>ESCRITURA</th>\n",
       "    </tr>\n",
       "  </thead>\n",
       "  <tbody>\n",
       "    <tr>\n",
       "      <th>LECTURA</th>\n",
       "      <td>1.00000</td>\n",
       "      <td>0.95378</td>\n",
       "    </tr>\n",
       "    <tr>\n",
       "      <th>ESCRITURA</th>\n",
       "      <td>0.95378</td>\n",
       "      <td>1.00000</td>\n",
       "    </tr>\n",
       "  </tbody>\n",
       "</table>\n",
       "</div>"
      ],
      "text/plain": [
       "           LECTURA  ESCRITURA\n",
       "LECTURA    1.00000    0.95378\n",
       "ESCRITURA  0.95378    1.00000"
      ]
     },
     "execution_count": 112,
     "metadata": {},
     "output_type": "execute_result"
    }
   ],
   "source": [
    "df[['LECTURA','ESCRITURA']].corr('pearson')"
   ]
  },
  {
   "cell_type": "markdown",
   "id": "6f9bd2ec-468f-4e4d-b91f-a5495f350b11",
   "metadata": {},
   "source": [
    "# Punto 5 - Promedio entre géneros"
   ]
  },
  {
   "cell_type": "code",
   "execution_count": 115,
   "id": "d2f62d7f-5324-40e5-95bf-82f0a3c099cc",
   "metadata": {},
   "outputs": [],
   "source": [
    "df_new = df.groupby(['GÉNERO']).agg({'MATEMATICAS':'mean','LECTURA':'mean','ESCRITURA':'mean'}).reset_index()"
   ]
  },
  {
   "cell_type": "code",
   "execution_count": 139,
   "id": "6b9c568f-5643-4557-9865-93bd05f0116a",
   "metadata": {},
   "outputs": [
    {
     "data": {
      "text/html": [
       "<div>\n",
       "<style scoped>\n",
       "    .dataframe tbody tr th:only-of-type {\n",
       "        vertical-align: middle;\n",
       "    }\n",
       "\n",
       "    .dataframe tbody tr th {\n",
       "        vertical-align: top;\n",
       "    }\n",
       "\n",
       "    .dataframe thead th {\n",
       "        text-align: right;\n",
       "    }\n",
       "</style>\n",
       "<table border=\"1\" class=\"dataframe\">\n",
       "  <thead>\n",
       "    <tr style=\"text-align: right;\">\n",
       "      <th></th>\n",
       "      <th>GÉNERO</th>\n",
       "      <th>MATEMATICAS</th>\n",
       "      <th>LECTURA</th>\n",
       "      <th>ESCRITURA</th>\n",
       "      <th>MEDIA_TOTAL</th>\n",
       "    </tr>\n",
       "  </thead>\n",
       "  <tbody>\n",
       "    <tr>\n",
       "      <th>0</th>\n",
       "      <td>Other</td>\n",
       "      <td>64.527778</td>\n",
       "      <td>67.861111</td>\n",
       "      <td>67.694444</td>\n",
       "      <td>NaN</td>\n",
       "    </tr>\n",
       "    <tr>\n",
       "      <th>1</th>\n",
       "      <td>female</td>\n",
       "      <td>63.873494</td>\n",
       "      <td>72.891566</td>\n",
       "      <td>72.891566</td>\n",
       "      <td>NaN</td>\n",
       "    </tr>\n",
       "    <tr>\n",
       "      <th>2</th>\n",
       "      <td>male</td>\n",
       "      <td>68.595960</td>\n",
       "      <td>65.565657</td>\n",
       "      <td>63.531987</td>\n",
       "      <td>NaN</td>\n",
       "    </tr>\n",
       "    <tr>\n",
       "      <th>3</th>\n",
       "      <td>non-binary</td>\n",
       "      <td>67.775701</td>\n",
       "      <td>70.785047</td>\n",
       "      <td>69.084112</td>\n",
       "      <td>NaN</td>\n",
       "    </tr>\n",
       "  </tbody>\n",
       "</table>\n",
       "</div>"
      ],
      "text/plain": [
       "       GÉNERO  MATEMATICAS    LECTURA  ESCRITURA  MEDIA_TOTAL\n",
       "0       Other    64.527778  67.861111  67.694444          NaN\n",
       "1      female    63.873494  72.891566  72.891566          NaN\n",
       "2        male    68.595960  65.565657  63.531987          NaN\n",
       "3  non-binary    67.775701  70.785047  69.084112          NaN"
      ]
     },
     "execution_count": 139,
     "metadata": {},
     "output_type": "execute_result"
    }
   ],
   "source": [
    "df_new"
   ]
  },
  {
   "cell_type": "code",
   "execution_count": 140,
   "id": "b630c186-8d76-40e8-8d8c-69bba898b82e",
   "metadata": {},
   "outputs": [
    {
     "data": {
      "text/plain": [
       "2.3403867270208876"
      ]
     },
     "execution_count": 140,
     "metadata": {},
     "output_type": "execute_result"
    }
   ],
   "source": [
    "#Calcular la desviación estándar entre los promedio de la columna matemáticas\n",
    "df_new['MATEMATICAS'].std()"
   ]
  },
  {
   "cell_type": "code",
   "execution_count": 141,
   "id": "18add149-642d-4dd7-b949-c795c37c7cd6",
   "metadata": {},
   "outputs": [
    {
     "data": {
      "text/plain": [
       "<AxesSubplot:xlabel='GÉNERO'>"
      ]
     },
     "execution_count": 141,
     "metadata": {},
     "output_type": "execute_result"
    },
    {
     "data": {
      "image/png": "[encoded data removed]",
      "text/plain": [
       "<Figure size 432x288 with 1 Axes>"
      ]
     },
     "metadata": {
      "needs_background": "light"
     },
     "output_type": "display_data"
    }
   ],
   "source": [
    "df_new.plot(kind='bar', x='GÉNERO')"
   ]
  },
  {
   "cell_type": "code",
   "execution_count": 146,
   "id": "497a5075-e55c-4e02-98ec-e4d2be1ec964",
   "metadata": {},
   "outputs": [],
   "source": [
    "#Almacenar en una nueva columna la media total\n",
    "df_new['MEDIA_TOTAL']=(df_new['MATEMATICAS']+df_new['LECTURA']+df_new['ESCRITURA'])/3"
   ]
  },
  {
   "cell_type": "code",
   "execution_count": 147,
   "id": "58e41182-a7e9-4215-b9ff-202f0c178863",
   "metadata": {},
   "outputs": [
    {
     "data": {
      "text/html": [
       "<div>\n",
       "<style scoped>\n",
       "    .dataframe tbody tr th:only-of-type {\n",
       "        vertical-align: middle;\n",
       "    }\n",
       "\n",
       "    .dataframe tbody tr th {\n",
       "        vertical-align: top;\n",
       "    }\n",
       "\n",
       "    .dataframe thead th {\n",
       "        text-align: right;\n",
       "    }\n",
       "</style>\n",
       "<table border=\"1\" class=\"dataframe\">\n",
       "  <thead>\n",
       "    <tr style=\"text-align: right;\">\n",
       "      <th></th>\n",
       "      <th>GÉNERO</th>\n",
       "      <th>MATEMATICAS</th>\n",
       "      <th>LECTURA</th>\n",
       "      <th>ESCRITURA</th>\n",
       "      <th>MEDIA_TOTAL</th>\n",
       "    </tr>\n",
       "  </thead>\n",
       "  <tbody>\n",
       "    <tr>\n",
       "      <th>0</th>\n",
       "      <td>Other</td>\n",
       "      <td>64.527778</td>\n",
       "      <td>67.861111</td>\n",
       "      <td>67.694444</td>\n",
       "      <td>66.694444</td>\n",
       "    </tr>\n",
       "    <tr>\n",
       "      <th>1</th>\n",
       "      <td>female</td>\n",
       "      <td>63.873494</td>\n",
       "      <td>72.891566</td>\n",
       "      <td>72.891566</td>\n",
       "      <td>69.885542</td>\n",
       "    </tr>\n",
       "    <tr>\n",
       "      <th>2</th>\n",
       "      <td>male</td>\n",
       "      <td>68.595960</td>\n",
       "      <td>65.565657</td>\n",
       "      <td>63.531987</td>\n",
       "      <td>65.897868</td>\n",
       "    </tr>\n",
       "    <tr>\n",
       "      <th>3</th>\n",
       "      <td>non-binary</td>\n",
       "      <td>67.775701</td>\n",
       "      <td>70.785047</td>\n",
       "      <td>69.084112</td>\n",
       "      <td>69.214953</td>\n",
       "    </tr>\n",
       "  </tbody>\n",
       "</table>\n",
       "</div>"
      ],
      "text/plain": [
       "       GÉNERO  MATEMATICAS    LECTURA  ESCRITURA  MEDIA_TOTAL\n",
       "0       Other    64.527778  67.861111  67.694444    66.694444\n",
       "1      female    63.873494  72.891566  72.891566    69.885542\n",
       "2        male    68.595960  65.565657  63.531987    65.897868\n",
       "3  non-binary    67.775701  70.785047  69.084112    69.214953"
      ]
     },
     "execution_count": 147,
     "metadata": {},
     "output_type": "execute_result"
    }
   ],
   "source": [
    "df_new"
   ]
  },
  {
   "cell_type": "code",
   "execution_count": 148,
   "id": "54cc49aa-d02c-4a84-9d17-23680bcc231f",
   "metadata": {},
   "outputs": [
    {
     "data": {
      "text/plain": [
       "<AxesSubplot:xlabel='GÉNERO'>"
      ]
     },
     "execution_count": 148,
     "metadata": {},
     "output_type": "execute_result"
    },
    {
     "data": {
      "image/png": "[encoded data removed]",
      "text/plain": [
       "<Figure size 432x288 with 1 Axes>"
      ]
     },
     "metadata": {
      "needs_background": "light"
     },
     "output_type": "display_data"
    }
   ],
   "source": [
    "#Graficar\n",
    "df_new.plot(kind='bar', x='GÉNERO', y='MEDIA_TOTAL')"
   ]
  },
  {
   "cell_type": "markdown",
   "id": "bdb32cfd-531b-4036-b5ce-9061132fc0a8",
   "metadata": {},
   "source": [
    "# Punto 6 - Por encima del percentil 85"
   ]
  },
  {
   "cell_type": "code",
   "execution_count": 152,
   "id": "cd3fc1a0-245d-486f-9084-afbbea63f7bf",
   "metadata": {},
   "outputs": [
    {
     "data": {
      "text/plain": [
       "84.0"
      ]
     },
     "execution_count": 152,
     "metadata": {},
     "output_type": "execute_result"
    }
   ],
   "source": [
    "percentile = np.percentile(df['ESCRITURA'],85)\n",
    "percentile"
   ]
  },
  {
   "cell_type": "code",
   "execution_count": 155,
   "id": "83250daf-7a2c-4fbc-a6af-33b41e0c805c",
   "metadata": {},
   "outputs": [],
   "source": [
    "df_perc = df.loc[lambda x : x['ESCRITURA']>percentile]"
   ]
  },
  {
   "cell_type": "code",
   "execution_count": 156,
   "id": "f90dae21-c681-42aa-aa39-17f51548c450",
   "metadata": {},
   "outputs": [
    {
     "data": {
      "text/html": [
       "<div>\n",
       "<style scoped>\n",
       "    .dataframe tbody tr th:only-of-type {\n",
       "        vertical-align: middle;\n",
       "    }\n",
       "\n",
       "    .dataframe tbody tr th {\n",
       "        vertical-align: top;\n",
       "    }\n",
       "\n",
       "    .dataframe thead th {\n",
       "        text-align: right;\n",
       "    }\n",
       "</style>\n",
       "<table border=\"1\" class=\"dataframe\">\n",
       "  <thead>\n",
       "    <tr style=\"text-align: right;\">\n",
       "      <th></th>\n",
       "      <th>GÉNERO</th>\n",
       "      <th>RAZA_ETNIA</th>\n",
       "      <th>NIVEL_EDUCACIÓN_PADRES</th>\n",
       "      <th>ALMUERZO</th>\n",
       "      <th>PREPARACION_CURSO</th>\n",
       "      <th>MATEMATICAS</th>\n",
       "      <th>LECTURA</th>\n",
       "      <th>ESCRITURA</th>\n",
       "    </tr>\n",
       "  </thead>\n",
       "  <tbody>\n",
       "    <tr>\n",
       "      <th>1</th>\n",
       "      <td>female</td>\n",
       "      <td>group C</td>\n",
       "      <td>some college</td>\n",
       "      <td>standard</td>\n",
       "      <td>completed</td>\n",
       "      <td>69.0</td>\n",
       "      <td>90.0</td>\n",
       "      <td>88.0</td>\n",
       "    </tr>\n",
       "    <tr>\n",
       "      <th>2</th>\n",
       "      <td>female</td>\n",
       "      <td>group B</td>\n",
       "      <td>master's degree</td>\n",
       "      <td>standard</td>\n",
       "      <td>none</td>\n",
       "      <td>90.0</td>\n",
       "      <td>95.0</td>\n",
       "      <td>93.0</td>\n",
       "    </tr>\n",
       "    <tr>\n",
       "      <th>6</th>\n",
       "      <td>non-binary</td>\n",
       "      <td>group B</td>\n",
       "      <td>some college</td>\n",
       "      <td>standard</td>\n",
       "      <td>completed</td>\n",
       "      <td>88.0</td>\n",
       "      <td>95.0</td>\n",
       "      <td>92.0</td>\n",
       "    </tr>\n",
       "    <tr>\n",
       "      <th>16</th>\n",
       "      <td>male</td>\n",
       "      <td>group C</td>\n",
       "      <td>high school</td>\n",
       "      <td>standard</td>\n",
       "      <td>none</td>\n",
       "      <td>88.0</td>\n",
       "      <td>89.0</td>\n",
       "      <td>86.0</td>\n",
       "    </tr>\n",
       "    <tr>\n",
       "      <th>54</th>\n",
       "      <td>female</td>\n",
       "      <td>group C</td>\n",
       "      <td>some high school</td>\n",
       "      <td>free/reduced</td>\n",
       "      <td>completed</td>\n",
       "      <td>71.0</td>\n",
       "      <td>84.0</td>\n",
       "      <td>87.0</td>\n",
       "    </tr>\n",
       "    <tr>\n",
       "      <th>...</th>\n",
       "      <td>...</td>\n",
       "      <td>...</td>\n",
       "      <td>...</td>\n",
       "      <td>...</td>\n",
       "      <td>...</td>\n",
       "      <td>...</td>\n",
       "      <td>...</td>\n",
       "      <td>...</td>\n",
       "    </tr>\n",
       "    <tr>\n",
       "      <th>957</th>\n",
       "      <td>female</td>\n",
       "      <td>group D</td>\n",
       "      <td>master's degree</td>\n",
       "      <td>standard</td>\n",
       "      <td>none</td>\n",
       "      <td>92.0</td>\n",
       "      <td>100.0</td>\n",
       "      <td>100.0</td>\n",
       "    </tr>\n",
       "    <tr>\n",
       "      <th>979</th>\n",
       "      <td>female</td>\n",
       "      <td>group C</td>\n",
       "      <td>associate's degree</td>\n",
       "      <td>standard</td>\n",
       "      <td>none</td>\n",
       "      <td>91.0</td>\n",
       "      <td>95.0</td>\n",
       "      <td>94.0</td>\n",
       "    </tr>\n",
       "    <tr>\n",
       "      <th>982</th>\n",
       "      <td>male</td>\n",
       "      <td>group B</td>\n",
       "      <td>some high school</td>\n",
       "      <td>standard</td>\n",
       "      <td>completed</td>\n",
       "      <td>79.0</td>\n",
       "      <td>85.0</td>\n",
       "      <td>86.0</td>\n",
       "    </tr>\n",
       "    <tr>\n",
       "      <th>983</th>\n",
       "      <td>female</td>\n",
       "      <td>group A</td>\n",
       "      <td>some college</td>\n",
       "      <td>standard</td>\n",
       "      <td>completed</td>\n",
       "      <td>78.0</td>\n",
       "      <td>87.0</td>\n",
       "      <td>91.0</td>\n",
       "    </tr>\n",
       "    <tr>\n",
       "      <th>999</th>\n",
       "      <td>female</td>\n",
       "      <td>group D</td>\n",
       "      <td>some college</td>\n",
       "      <td>free/reduced</td>\n",
       "      <td>none</td>\n",
       "      <td>77.0</td>\n",
       "      <td>86.0</td>\n",
       "      <td>86.0</td>\n",
       "    </tr>\n",
       "  </tbody>\n",
       "</table>\n",
       "<p>113 rows × 8 columns</p>\n",
       "</div>"
      ],
      "text/plain": [
       "         GÉNERO RAZA_ETNIA NIVEL_EDUCACIÓN_PADRES      ALMUERZO  \\\n",
       "1        female    group C           some college      standard   \n",
       "2        female    group B        master's degree      standard   \n",
       "6    non-binary    group B           some college      standard   \n",
       "16         male    group C            high school      standard   \n",
       "54       female    group C       some high school  free/reduced   \n",
       "..          ...        ...                    ...           ...   \n",
       "957      female    group D        master's degree      standard   \n",
       "979      female    group C     associate's degree      standard   \n",
       "982        male    group B       some high school      standard   \n",
       "983      female    group A           some college      standard   \n",
       "999      female    group D           some college  free/reduced   \n",
       "\n",
       "    PREPARACION_CURSO  MATEMATICAS  LECTURA  ESCRITURA  \n",
       "1           completed         69.0     90.0       88.0  \n",
       "2                none         90.0     95.0       93.0  \n",
       "6           completed         88.0     95.0       92.0  \n",
       "16               none         88.0     89.0       86.0  \n",
       "54          completed         71.0     84.0       87.0  \n",
       "..                ...          ...      ...        ...  \n",
       "957              none         92.0    100.0      100.0  \n",
       "979              none         91.0     95.0       94.0  \n",
       "982         completed         79.0     85.0       86.0  \n",
       "983         completed         78.0     87.0       91.0  \n",
       "999              none         77.0     86.0       86.0  \n",
       "\n",
       "[113 rows x 8 columns]"
      ]
     },
     "execution_count": 156,
     "metadata": {},
     "output_type": "execute_result"
    }
   ],
   "source": [
    "df_perc"
   ]
  },
  {
   "cell_type": "code",
   "execution_count": 158,
   "id": "64895ead-6dc4-4c11-81e6-280ec7e41921",
   "metadata": {},
   "outputs": [
    {
     "data": {
      "image/png": "[encoded data removed]",
      "text/plain": [
       "<Figure size 432x288 with 1 Axes>"
      ]
     },
     "metadata": {},
     "output_type": "display_data"
    }
   ],
   "source": [
    "tipo=df['NIVEL_EDUCACIÓN_PADRES'].value_counts()\n",
    "tipo.sort_values(ascending=False,inplace=True)\n",
    "graph = tipo.plot(kind=\"pie\", autopct='%1.1f%%',shadow=True)"
   ]
  },
  {
   "cell_type": "code",
   "execution_count": null,
   "id": "d1e61818-a21d-4e9b-9921-c8f719bb1c60",
   "metadata": {},
   "outputs": [],
   "source": []
  }
 ],
 "metadata": {
  "kernelspec": {
   "display_name": "Python 3 (ipykernel)",
   "language": "python",
   "name": "python3"
  },
  "language_info": {
   "codemirror_mode": {
    "name": "ipython",
    "version": 3
   },
   "file_extension": ".py",
   "mimetype": "text/x-python",
   "name": "python",
   "nbconvert_exporter": "python",
   "pygments_lexer": "ipython3",
   "version": "3.9.12"
  }
 },
 "nbformat": 4,
 "nbformat_minor": 5
}
